{
  "nbformat": 4,
  "nbformat_minor": 0,
  "metadata": {
    "colab": {
      "provenance": [],
      "authorship_tag": "ABX9TyPTO3IUDo2Q+jmNvkhHYIe2"
    },
    "kernelspec": {
      "name": "python3",
      "display_name": "Python 3"
    },
    "language_info": {
      "name": "python"
    }
  },
  "cells": [
    {
      "cell_type": "code",
      "execution_count": 2,
      "metadata": {
        "id": "8ZlgCnRRsp6i"
      },
      "outputs": [],
      "source": [
        "import torch"
      ]
    },
    {
      "cell_type": "markdown",
      "source": [
        "Tensor operations with gradients\n"
      ],
      "metadata": {
        "id": "gHnQgIjpG58Y"
      }
    },
    {
      "cell_type": "code",
      "source": [
        "x = torch.tensor(5, dtype=torch.float64) # input quantity/var\n",
        "m = torch.tensor(1., requires_grad=True) # slope\n",
        "b = torch.tensor(3., requires_grad=True) # y intercept\n",
        "\n",
        "x, m, b\n",
        "\n"
      ],
      "metadata": {
        "colab": {
          "base_uri": "https://localhost:8080/"
        },
        "id": "syif3ZBMGL5s",
        "outputId": "5c88a890-452f-45fa-a526-7ca415ef3c59"
      },
      "execution_count": 11,
      "outputs": [
        {
          "output_type": "execute_result",
          "data": {
            "text/plain": [
              "(tensor(5., dtype=torch.float64),\n",
              " tensor(1., requires_grad=True),\n",
              " tensor(3., requires_grad=True))"
            ]
          },
          "metadata": {},
          "execution_count": 11
        }
      ]
    },
    {
      "cell_type": "code",
      "source": [
        "y = m * x + b\n",
        "y"
      ],
      "metadata": {
        "colab": {
          "base_uri": "https://localhost:8080/"
        },
        "id": "dTHOj_OZGgrU",
        "outputId": "5e3c8707-6396-46b5-d9e9-2f325e4f3a84"
      },
      "execution_count": 12,
      "outputs": [
        {
          "output_type": "execute_result",
          "data": {
            "text/plain": [
              "tensor(8., dtype=torch.float64, grad_fn=<AddBackward0>)"
            ]
          },
          "metadata": {},
          "execution_count": 12
        }
      ]
    },
    {
      "cell_type": "markdown",
      "source": [
        "Now, getting derivative of y wrt m, x and b"
      ],
      "metadata": {
        "id": "3dMUwuEkIWMY"
      }
    },
    {
      "cell_type": "code",
      "source": [
        "# compute derivative\n",
        "y.backward()"
      ],
      "metadata": {
        "id": "Gw74D5iSIO5V"
      },
      "execution_count": 15,
      "outputs": []
    },
    {
      "cell_type": "code",
      "source": [
        "print(\"dy/dx: \", x.grad)\n",
        "print(\"dy/dm: \", m.grad)\n",
        "print(\"dy/db: \", b.grad)\n",
        "\n"
      ],
      "metadata": {
        "colab": {
          "base_uri": "https://localhost:8080/"
        },
        "id": "pQrCWpaWHtA_",
        "outputId": "b992760c-9f06-4e3a-beec-076bcf8c487b"
      },
      "execution_count": 17,
      "outputs": [
        {
          "output_type": "stream",
          "name": "stdout",
          "text": [
            "dy/dx:  None\n",
            "dy/dm:  tensor(5.)\n",
            "dy/db:  tensor(1.)\n"
          ]
        }
      ]
    },
    {
      "cell_type": "code",
      "source": [],
      "metadata": {
        "id": "5nhYJNwuImLO"
      },
      "execution_count": null,
      "outputs": []
    }
  ]
}