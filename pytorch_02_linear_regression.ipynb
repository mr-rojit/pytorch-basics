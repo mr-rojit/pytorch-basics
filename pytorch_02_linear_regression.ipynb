{
  "nbformat": 4,
  "nbformat_minor": 0,
  "metadata": {
    "colab": {
      "provenance": [],
      "authorship_tag": "ABX9TyMGEh8ldK3m0enjSnUe5IY7",
      "include_colab_link": true
    },
    "kernelspec": {
      "name": "python3",
      "display_name": "Python 3"
    },
    "language_info": {
      "name": "python"
    }
  },
  "cells": [
    {
      "cell_type": "markdown",
      "metadata": {
        "id": "view-in-github",
        "colab_type": "text"
      },
      "source": [
        "<a href=\"https://colab.research.google.com/github/mr-rojit/pytorch-basics/blob/main/pytorch_02_linear_regression.ipynb\" target=\"_parent\"><img src=\"https://colab.research.google.com/assets/colab-badge.svg\" alt=\"Open In Colab\"/></a>"
      ]
    },
    {
      "cell_type": "code",
      "execution_count": 63,
      "metadata": {
        "id": "8ZlgCnRRsp6i"
      },
      "outputs": [],
      "source": [
        "import numpy as np\n",
        "import matplotlib.pyplot as plt\n",
        "import torch\n",
        "from torch import nn\n",
        "from sklearn.datasets import make_regression\n",
        "from sklearn.model_selection import train_test_split\n",
        "from sklearn.metrics import mean_absolute_error"
      ]
    },
    {
      "cell_type": "code",
      "source": [
        "linear = make_regression(50,1, noise=5)\n",
        "X, y = linear\n",
        "y = y.reshape(-1,1)\n",
        "\n",
        "X = torch.from_numpy(X)\n",
        "y = torch.from_numpy(y)"
      ],
      "metadata": {
        "id": "W9IMM3zc__GQ"
      },
      "execution_count": 66,
      "outputs": []
    },
    {
      "cell_type": "code",
      "source": [
        "plt.scatter(X, y)"
      ],
      "metadata": {
        "colab": {
          "base_uri": "https://localhost:8080/",
          "height": 448
        },
        "id": "cia57-C_A6SX",
        "outputId": "5d9458e1-8b95-4295-db80-0dbca22316dd"
      },
      "execution_count": 67,
      "outputs": [
        {
          "output_type": "execute_result",
          "data": {
            "text/plain": [
              "<matplotlib.collections.PathCollection at 0x7d4469627070>"
            ]
          },
          "metadata": {},
          "execution_count": 67
        },
        {
          "output_type": "display_data",
          "data": {
            "text/plain": [
              "<Figure size 640x480 with 1 Axes>"
            ],
            "image/png": "[encoded data removed]"
          },
          "metadata": {}
        }
      ]
    },
    {
      "cell_type": "code",
      "source": [
        "X_train, X_test, y_train, y_test = train_test_split(X, y, test_size=0.2)"
      ],
      "metadata": {
        "id": "PbWF4V-kBtoS"
      },
      "execution_count": 68,
      "outputs": []
    },
    {
      "cell_type": "code",
      "source": [
        "class LinearRegression(nn.Module):\n",
        "\n",
        "  def __init__(self):\n",
        "    super().__init__()\n",
        "    self.weights = nn.Parameter(torch.randn(1, requires_grad=True, dtype=torch.float64))\n",
        "    self.bias = nn.Parameter(torch.randn(1, requires_grad=True, dtype=torch.float64))\n",
        "\n",
        "  def forward(self, X: torch.Tensor) -> torch.Tensor:\n",
        "    return self.weights * X + self.bias\n"
      ],
      "metadata": {
        "id": "VZneSzuRDGNi"
      },
      "execution_count": 69,
      "outputs": []
    },
    {
      "cell_type": "code",
      "source": [
        "torch.manual_seed(42)\n",
        "\n",
        "lr = LinearRegression()\n",
        "list(lr.parameters())"
      ],
      "metadata": {
        "colab": {
          "base_uri": "https://localhost:8080/"
        },
        "id": "SYCJ9gsFKq9d",
        "outputId": "9ce21870-5960-4b69-b57c-c9b761334504"
      },
      "execution_count": 70,
      "outputs": [
        {
          "output_type": "execute_result",
          "data": {
            "text/plain": [
              "[Parameter containing:\n",
              " tensor([0.3367], dtype=torch.float64, requires_grad=True),\n",
              " Parameter containing:\n",
              " tensor([0.1288], dtype=torch.float64, requires_grad=True)]"
            ]
          },
          "metadata": {},
          "execution_count": 70
        }
      ]
    },
    {
      "cell_type": "code",
      "source": [
        "with torch.inference_mode():\n",
        "  y_pred = lr(X_test)"
      ],
      "metadata": {
        "id": "DhkoRpkuLAbI"
      },
      "execution_count": 71,
      "outputs": []
    },
    {
      "cell_type": "code",
      "source": [
        "y_pred"
      ],
      "metadata": {
        "colab": {
          "base_uri": "https://localhost:8080/"
        },
        "id": "gkZbxX3JGnRq",
        "outputId": "4b26a612-9393-4fb1-9eea-f56d1d2aec13"
      },
      "execution_count": 72,
      "outputs": [
        {
          "output_type": "execute_result",
          "data": {
            "text/plain": [
              "tensor([[-0.0117],\n",
              "        [ 0.0916],\n",
              "        [ 0.4898],\n",
              "        [-0.1983],\n",
              "        [-0.1491],\n",
              "        [ 0.0892],\n",
              "        [ 0.1022],\n",
              "        [-0.1638],\n",
              "        [ 0.0834],\n",
              "        [-0.4132]], dtype=torch.float64)"
            ]
          },
          "metadata": {},
          "execution_count": 72
        }
      ]
    },
    {
      "cell_type": "code",
      "source": [
        "y_test"
      ],
      "metadata": {
        "colab": {
          "base_uri": "https://localhost:8080/"
        },
        "id": "c4zO7bZZGoRp",
        "outputId": "82638545-a4db-4dbd-f55f-1d62c9f6968e"
      },
      "execution_count": 73,
      "outputs": [
        {
          "output_type": "execute_result",
          "data": {
            "text/plain": [
              "tensor([[-12.4454],\n",
              "        [ -6.5264],\n",
              "        [ 39.4340],\n",
              "        [-40.5050],\n",
              "        [-44.2422],\n",
              "        [ -7.4863],\n",
              "        [ -5.9286],\n",
              "        [-36.2277],\n",
              "        [-14.1847],\n",
              "        [-65.8239]], dtype=torch.float64)"
            ]
          },
          "metadata": {},
          "execution_count": 73
        }
      ]
    },
    {
      "cell_type": "code",
      "source": [
        "plt.scatter(X_test, y_test)\n",
        "plt.scatter(X_test, y_pred)"
      ],
      "metadata": {
        "colab": {
          "base_uri": "https://localhost:8080/",
          "height": 448
        },
        "id": "G-3Tw9maGrxR",
        "outputId": "bcb1c7e3-7e51-4641-ec60-b678a7b68a36"
      },
      "execution_count": 74,
      "outputs": [
        {
          "output_type": "execute_result",
          "data": {
            "text/plain": [
              "<matplotlib.collections.PathCollection at 0x7d44694addb0>"
            ]
          },
          "metadata": {},
          "execution_count": 74
        },
        {
          "output_type": "display_data",
          "data": {
            "text/plain": [
              "<Figure size 640x480 with 1 Axes>"
            ],
            "image/png": "[encoded data removed]"
          },
          "metadata": {}
        }
      ]
    },
    {
      "cell_type": "code",
      "source": [
        "mean_absolute_error(X_test, y_pred)"
      ],
      "metadata": {
        "colab": {
          "base_uri": "https://localhost:8080/"
        },
        "id": "nB_gjiFYKzNf",
        "outputId": "14cc5a05-726c-4334-947c-365281a7db27"
      },
      "execution_count": 75,
      "outputs": [
        {
          "output_type": "execute_result",
          "data": {
            "text/plain": [
              "0.5148029744385582"
            ]
          },
          "metadata": {},
          "execution_count": 75
        }
      ]
    },
    {
      "cell_type": "markdown",
      "source": [
        "Pytorch training loop"
      ],
      "metadata": {
        "id": "f5M5mj4mIE-C"
      }
    },
    {
      "cell_type": "code",
      "source": [
        "torch.manual_seed(42)\n",
        "linear_regression_model = LinearRegression()\n",
        "\n",
        "mae = nn.L1Loss()\n",
        "\n",
        "sgd = torch.optim.SGD(params=linear_regression_model.parameters(), lr=0.1)"
      ],
      "metadata": {
        "id": "qJMIslYwKLdj"
      },
      "execution_count": 90,
      "outputs": []
    },
    {
      "cell_type": "code",
      "source": [
        "# training loop\n",
        "\n",
        "epochs = 1000  # Increased number of epochs\n",
        "for epoch in range(epochs):\n",
        "    # Set model to training mode\n",
        "    linear_regression_model.train()\n",
        "\n",
        "    # Make prediction using forward pass\n",
        "    y_pred = linear_regression_model(X_train)\n",
        "\n",
        "    # Calculate loss\n",
        "    loss = mae(y_pred, y_train)\n",
        "\n",
        "    # Print loss every 100 epochs\n",
        "    if (epoch + 1) % 100 == 0:\n",
        "        print(f'Epoch [{epoch + 1}/{epochs}], Loss: {loss.item():.4f}')\n",
        "        print(f'Weights: {linear_regression_model.weights.item()}, Bias: {linear_regression_model.bias.item()}')\n",
        "\n",
        "    # Zero the gradients\n",
        "    sgd.zero_grad()\n",
        "\n",
        "    # Perform backward pass\n",
        "    loss.backward()\n",
        "\n",
        "    # Update the weights\n",
        "    sgd.step()\n"
      ],
      "metadata": {
        "id": "AyUzz0tKbYv3",
        "colab": {
          "base_uri": "https://localhost:8080/"
        },
        "outputId": "5fd3f4b3-fc32-4f7d-a08f-0198ba6a550f"
      },
      "execution_count": 97,
      "outputs": [
        {
          "output_type": "stream",
          "name": "stdout",
          "text": [
            "Epoch [100/1000], Loss: 19.7374\n",
            "Weights: 16.145585412631718, Bias: 0.8688094051365903\n",
            "Epoch [200/1000], Loss: 13.9027\n",
            "Weights: 23.778876470805983, Bias: 1.02880940513659\n",
            "Epoch [300/1000], Loss: 8.7792\n",
            "Weights: 30.90148142433269, Bias: 0.8038094051365885\n",
            "Epoch [400/1000], Loss: 5.0633\n",
            "Weights: 36.960430038507866, Bias: 0.8438094051365885\n",
            "Epoch [500/1000], Loss: 4.4518\n",
            "Weights: 38.8382808217048, Bias: 0.18380940513658794\n",
            "Epoch [600/1000], Loss: 4.3824\n",
            "Weights: 39.56444331156535, Bias: -0.12119059486341228\n",
            "Epoch [700/1000], Loss: 4.3725\n",
            "Weights: 39.73762957194229, Bias: -0.2661905948634124\n",
            "Epoch [800/1000], Loss: 4.3689\n",
            "Weights: 39.802157266194094, Bias: -0.45119059486341256\n",
            "Epoch [900/1000], Loss: 4.3652\n",
            "Weights: 39.866684960445895, Bias: -0.6361905948634127\n",
            "Epoch [1000/1000], Loss: 4.3638\n",
            "Weights: 39.89939524782842, Bias: -0.6911905948634127\n"
          ]
        }
      ]
    },
    {
      "cell_type": "code",
      "source": [
        "with torch.inference_mode():\n",
        "  new_y_pred = linear_regression_model(X_test)"
      ],
      "metadata": {
        "id": "lAT6MxAZFnd_"
      },
      "execution_count": 98,
      "outputs": []
    },
    {
      "cell_type": "code",
      "source": [
        "plt.scatter(X_test, y_test)\n",
        "plt.scatter(X_test, new_y_pred)"
      ],
      "metadata": {
        "colab": {
          "base_uri": "https://localhost:8080/",
          "height": 448
        },
        "id": "ZogD8AgkOVXb",
        "outputId": "49b220f7-ccc2-45a5-d51f-1c7f1392ceb2"
      },
      "execution_count": 99,
      "outputs": [
        {
          "output_type": "execute_result",
          "data": {
            "text/plain": [
              "<matplotlib.collections.PathCollection at 0x7d446950a830>"
            ]
          },
          "metadata": {},
          "execution_count": 99
        },
        {
          "output_type": "display_data",
          "data": {
            "text/plain": [
              "<Figure size 640x480 with 1 Axes>"
            ],
            "image/png": "[encoded data removed]"
          },
          "metadata": {}
        }
      ]
    },
    {
      "cell_type": "code",
      "source": [],
      "metadata": {
        "id": "2apAHJtWOb7E"
      },
      "execution_count": null,
      "outputs": []
    }
  ]
}