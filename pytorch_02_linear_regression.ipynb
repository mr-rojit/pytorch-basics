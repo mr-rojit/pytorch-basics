{
  "nbformat": 4,
  "nbformat_minor": 0,
  "metadata": {
    "colab": {
      "provenance": [],
      "authorship_tag": "ABX9TyMnzDG3Fqs8ULnm04H5zh78",
      "include_colab_link": true
    },
    "kernelspec": {
      "name": "python3",
      "display_name": "Python 3"
    },
    "language_info": {
      "name": "python"
    }
  },
  "cells": [
    {
      "cell_type": "markdown",
      "metadata": {
        "id": "view-in-github",
        "colab_type": "text"
      },
      "source": [
        "<a href=\"https://colab.research.google.com/github/mr-rojit/pytorch-basics/blob/main/pytorch_02_linear_regression.ipynb\" target=\"_parent\"><img src=\"https://colab.research.google.com/assets/colab-badge.svg\" alt=\"Open In Colab\"/></a>"
      ]
    },
    {
      "cell_type": "code",
      "execution_count": 16,
      "metadata": {
        "id": "8ZlgCnRRsp6i"
      },
      "outputs": [],
      "source": [
        "import numpy as np\n",
        "import matplotlib.pyplot as plt\n",
        "import torch\n",
        "from torch import nn\n",
        "from sklearn.datasets import make_regression\n",
        "from sklearn.model_selection import train_test_split\n",
        "from sklearn.metrics import mean_squared_error"
      ]
    },
    {
      "cell_type": "code",
      "source": [
        "linear = make_regression(50,1, noise=10)\n",
        "X, y = linear"
      ],
      "metadata": {
        "id": "W9IMM3zc__GQ"
      },
      "execution_count": 2,
      "outputs": []
    },
    {
      "cell_type": "code",
      "source": [
        "plt.scatter(X, y)"
      ],
      "metadata": {
        "colab": {
          "base_uri": "https://localhost:8080/",
          "height": 448
        },
        "id": "cia57-C_A6SX",
        "outputId": "509c84ac-c8e3-4b02-8ee4-b0195864b6f7"
      },
      "execution_count": 3,
      "outputs": [
        {
          "output_type": "execute_result",
          "data": {
            "text/plain": [
              "<matplotlib.collections.PathCollection at 0x7c432cf64730>"
            ]
          },
          "metadata": {},
          "execution_count": 3
        },
        {
          "output_type": "display_data",
          "data": {
            "text/plain": [
              "<Figure size 640x480 with 1 Axes>"
            ],
            "image/png": "[encoded data removed]"
          },
          "metadata": {}
        }
      ]
    },
    {
      "cell_type": "code",
      "source": [
        "X_train, X_test, y_train, y_test = train_test_split(X, y, test_size=0.2)"
      ],
      "metadata": {
        "id": "PbWF4V-kBtoS"
      },
      "execution_count": 4,
      "outputs": []
    },
    {
      "cell_type": "code",
      "source": [
        "class LinearRegression(nn.Module):\n",
        "\n",
        "  def __init__(self):\n",
        "    super().__init__()\n",
        "    self.weights = nn.Parameter(torch.randn(1, requires_grad=True, dtype=torch.float64))\n",
        "    self.bias = nn.Parameter(torch.randn(1, requires_grad=True, dtype=torch.float64))\n",
        "\n",
        "  def forward(self, X: torch.Tensor) -> torch.Tensor:\n",
        "    return self.weights * X + self.bias\n"
      ],
      "metadata": {
        "id": "VZneSzuRDGNi"
      },
      "execution_count": 56,
      "outputs": []
    },
    {
      "cell_type": "code",
      "source": [
        "torch.manual_seed(42)\n",
        "\n",
        "lr = LinearRegression()\n",
        "list(lr.parameters())"
      ],
      "metadata": {
        "colab": {
          "base_uri": "https://localhost:8080/"
        },
        "id": "SYCJ9gsFKq9d",
        "outputId": "3201d2e8-4845-4a57-ad77-e6c2f60a70e4"
      },
      "execution_count": 57,
      "outputs": [
        {
          "output_type": "execute_result",
          "data": {
            "text/plain": [
              "[Parameter containing:\n",
              " tensor([0.3367], dtype=torch.float64, requires_grad=True),\n",
              " Parameter containing:\n",
              " tensor([0.1288], dtype=torch.float64, requires_grad=True)]"
            ]
          },
          "metadata": {},
          "execution_count": 57
        }
      ]
    },
    {
      "cell_type": "code",
      "source": [
        "with torch.inference_mode():\n",
        "  y_pred = lr(X_test)"
      ],
      "metadata": {
        "id": "DhkoRpkuLAbI"
      },
      "execution_count": 67,
      "outputs": []
    },
    {
      "cell_type": "code",
      "source": [
        "y_pred"
      ],
      "metadata": {
        "colab": {
          "base_uri": "https://localhost:8080/"
        },
        "id": "gkZbxX3JGnRq",
        "outputId": "9c7be45e-b2b6-48c2-cf90-9898a97d9aa2"
      },
      "execution_count": 68,
      "outputs": [
        {
          "output_type": "execute_result",
          "data": {
            "text/plain": [
              "tensor([[ 2.0434e-01],\n",
              "        [ 3.5491e-04],\n",
              "        [-3.4657e-02],\n",
              "        [ 2.8965e-01],\n",
              "        [ 8.9315e-02],\n",
              "        [-6.4651e-01],\n",
              "        [ 1.3520e-01],\n",
              "        [ 1.0896e-01],\n",
              "        [-3.4528e-01],\n",
              "        [-1.4027e-01]], dtype=torch.float64)"
            ]
          },
          "metadata": {},
          "execution_count": 68
        }
      ]
    },
    {
      "cell_type": "code",
      "source": [
        "y_test"
      ],
      "metadata": {
        "colab": {
          "base_uri": "https://localhost:8080/"
        },
        "id": "c4zO7bZZGoRp",
        "outputId": "3f5e9afa-6eda-47a6-cf68-692884a0272d"
      },
      "execution_count": 69,
      "outputs": [
        {
          "output_type": "execute_result",
          "data": {
            "text/plain": [
              "array([  4.12920145, -11.77450519,  -5.75354954,  12.14966209,\n",
              "        11.9910382 , -75.78552626, -18.02185702,   3.80910392,\n",
              "       -28.1672206 , -21.70480524])"
            ]
          },
          "metadata": {},
          "execution_count": 69
        }
      ]
    },
    {
      "cell_type": "code",
      "source": [
        "plt.scatter(X_test, y_test)\n",
        "plt.scatter(X_test, y_pred)"
      ],
      "metadata": {
        "colab": {
          "base_uri": "https://localhost:8080/",
          "height": 448
        },
        "id": "G-3Tw9maGrxR",
        "outputId": "71def896-2515-448d-a5fd-28e448f2f803"
      },
      "execution_count": 70,
      "outputs": [
        {
          "output_type": "execute_result",
          "data": {
            "text/plain": [
              "<matplotlib.collections.PathCollection at 0x7c43276cf850>"
            ]
          },
          "metadata": {},
          "execution_count": 70
        },
        {
          "output_type": "display_data",
          "data": {
            "text/plain": [
              "<Figure size 640x480 with 1 Axes>"
            ],
            "image/png": "[encoded data removed]"
          },
          "metadata": {}
        }
      ]
    },
    {
      "cell_type": "code",
      "source": [
        "mae = nn.L1Loss()\n",
        "\n",
        "sgd = torch.optim.SGD(params=lr.parameters(), lr=0.01)"
      ],
      "metadata": {
        "id": "qJMIslYwKLdj"
      },
      "execution_count": 71,
      "outputs": []
    },
    {
      "cell_type": "code",
      "source": [
        "# training loop\n",
        "epochs = 50\n",
        "for epoch in range(epochs):\n",
        "  # set model for training\n",
        "  lr.train()\n",
        "\n",
        "  # make prediction using forward pass\n",
        "  y_pred = lr(torch.from_numpy(X_train))\n",
        "\n",
        "  # calculate loss\n",
        "  loss = mae(y_pred, torch.from_numpy(y_train))\n",
        "\n",
        "\n",
        "  sgd.zero_grad()\n",
        "\n",
        "  loss.backward()\n",
        "\n",
        "  sgd.step()\n",
        "\n"
      ],
      "metadata": {
        "id": "AyUzz0tKbYv3"
      },
      "execution_count": 79,
      "outputs": []
    },
    {
      "cell_type": "code",
      "source": [],
      "metadata": {
        "id": "EfBoS20rda--"
      },
      "execution_count": null,
      "outputs": []
    }
  ]
}