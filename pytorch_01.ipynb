{
  "nbformat": 4,
  "nbformat_minor": 0,
  "metadata": {
    "colab": {
      "provenance": [],
      "authorship_tag": "ABX9TyNV8luQanu8tulPT9xnN/qD",
      "include_colab_link": true
    },
    "kernelspec": {
      "name": "python3",
      "display_name": "Python 3"
    },
    "language_info": {
      "name": "python"
    }
  },
  "cells": [
    {
      "cell_type": "markdown",
      "metadata": {
        "id": "view-in-github",
        "colab_type": "text"
      },
      "source": [
        "<a href=\"https://colab.research.google.com/github/mr-rojit/pytorch-basics/blob/main/pytorch_01.ipynb\" target=\"_parent\"><img src=\"https://colab.research.google.com/assets/colab-badge.svg\" alt=\"Open In Colab\"/></a>"
      ]
    },
    {
      "cell_type": "markdown",
      "source": [
        "##Tensor Basics\n",
        "\n"
      ],
      "metadata": {
        "id": "J_fgmUpFOGah"
      }
    },
    {
      "cell_type": "code",
      "execution_count": 1,
      "metadata": {
        "id": "y8xSS3FzGb11"
      },
      "outputs": [],
      "source": [
        "import torch"
      ]
    },
    {
      "cell_type": "markdown",
      "source": [
        "A\n",
        "tensor is an array: that is, a data structure that stores a collection of numbers that are accessible individually using an index, and that can be indexed with multiple indices."
      ],
      "metadata": {
        "id": "79KIe2XEGniJ"
      }
    },
    {
      "cell_type": "code",
      "source": [
        "a = torch.tensor(1)\n",
        "a"
      ],
      "metadata": {
        "colab": {
          "base_uri": "https://localhost:8080/"
        },
        "id": "eyPmrApgGh6-",
        "outputId": "15dd79ee-480d-444b-a11a-2c2ea168a765"
      },
      "execution_count": 2,
      "outputs": [
        {
          "output_type": "execute_result",
          "data": {
            "text/plain": [
              "tensor(1)"
            ]
          },
          "metadata": {},
          "execution_count": 2
        }
      ]
    },
    {
      "cell_type": "code",
      "source": [
        "a.dtype"
      ],
      "metadata": {
        "colab": {
          "base_uri": "https://localhost:8080/"
        },
        "id": "j2QJAWjiGwLd",
        "outputId": "6610fa89-a788-4442-c591-7272ef100137"
      },
      "execution_count": 3,
      "outputs": [
        {
          "output_type": "execute_result",
          "data": {
            "text/plain": [
              "torch.int64"
            ]
          },
          "metadata": {},
          "execution_count": 3
        }
      ]
    },
    {
      "cell_type": "code",
      "source": [
        "# creating tensor with 3 ones and zeros\n",
        "torch.ones(3), torch.zeros(3)\n"
      ],
      "metadata": {
        "colab": {
          "base_uri": "https://localhost:8080/"
        },
        "id": "lQ73eE91Gw-h",
        "outputId": "11259e56-03c2-4685-9dd5-796fc299d181"
      },
      "execution_count": 4,
      "outputs": [
        {
          "output_type": "execute_result",
          "data": {
            "text/plain": [
              "(tensor([1., 1., 1.]), tensor([0., 0., 0.]))"
            ]
          },
          "metadata": {},
          "execution_count": 4
        }
      ]
    },
    {
      "cell_type": "code",
      "source": [
        "# creating multimentional ones\n",
        "x = torch.ones(5,5)\n",
        "x"
      ],
      "metadata": {
        "colab": {
          "base_uri": "https://localhost:8080/"
        },
        "id": "r6n94pGGGxwG",
        "outputId": "5e138cf1-8bdb-4fb8-f9fc-b4726a24466c"
      },
      "execution_count": 5,
      "outputs": [
        {
          "output_type": "execute_result",
          "data": {
            "text/plain": [
              "tensor([[1., 1., 1., 1., 1.],\n",
              "        [1., 1., 1., 1., 1.],\n",
              "        [1., 1., 1., 1., 1.],\n",
              "        [1., 1., 1., 1., 1.],\n",
              "        [1., 1., 1., 1., 1.]])"
            ]
          },
          "metadata": {},
          "execution_count": 5
        }
      ]
    },
    {
      "cell_type": "code",
      "source": [
        "# creating tensor with arange and reshaping\n",
        "x = torch.arange(25).reshape(5,5)\n",
        "x"
      ],
      "metadata": {
        "colab": {
          "base_uri": "https://localhost:8080/"
        },
        "id": "F4b7zvOMHEKn",
        "outputId": "67d54335-a041-4075-a9b6-0e43b33ca89d"
      },
      "execution_count": 6,
      "outputs": [
        {
          "output_type": "execute_result",
          "data": {
            "text/plain": [
              "tensor([[ 0,  1,  2,  3,  4],\n",
              "        [ 5,  6,  7,  8,  9],\n",
              "        [10, 11, 12, 13, 14],\n",
              "        [15, 16, 17, 18, 19],\n",
              "        [20, 21, 22, 23, 24]])"
            ]
          },
          "metadata": {},
          "execution_count": 6
        }
      ]
    },
    {
      "cell_type": "code",
      "source": [
        "x.size()"
      ],
      "metadata": {
        "colab": {
          "base_uri": "https://localhost:8080/"
        },
        "id": "kgym_GF3HJ1z",
        "outputId": "873a170d-f6fa-4f14-f990-17085233c1f3"
      },
      "execution_count": 7,
      "outputs": [
        {
          "output_type": "execute_result",
          "data": {
            "text/plain": [
              "torch.Size([5, 5])"
            ]
          },
          "metadata": {},
          "execution_count": 7
        }
      ]
    },
    {
      "cell_type": "code",
      "source": [
        "x.shape"
      ],
      "metadata": {
        "colab": {
          "base_uri": "https://localhost:8080/"
        },
        "id": "oFH-2OqHHdom",
        "outputId": "bb11048b-7510-4282-c102-bfc6d9227e01"
      },
      "execution_count": 8,
      "outputs": [
        {
          "output_type": "execute_result",
          "data": {
            "text/plain": [
              "torch.Size([5, 5])"
            ]
          },
          "metadata": {},
          "execution_count": 8
        }
      ]
    },
    {
      "cell_type": "code",
      "source": [
        "# slicing the tensor object\n",
        "print(x[:, 1])  # all rows for column 1"
      ],
      "metadata": {
        "colab": {
          "base_uri": "https://localhost:8080/"
        },
        "id": "KK-TQ2DjHoJP",
        "outputId": "210d8a5b-f445-4e7d-aacc-e9bd3bad89b7"
      },
      "execution_count": 9,
      "outputs": [
        {
          "output_type": "stream",
          "name": "stdout",
          "text": [
            "tensor([ 1,  6, 11, 16, 21])\n"
          ]
        }
      ]
    },
    {
      "cell_type": "code",
      "source": [
        "x[-2:, -2:] # selecting last square"
      ],
      "metadata": {
        "colab": {
          "base_uri": "https://localhost:8080/"
        },
        "id": "EU4gJfCIHvDF",
        "outputId": "e0018110-1371-4c9d-8168-ca8c8762ee5a"
      },
      "execution_count": 10,
      "outputs": [
        {
          "output_type": "execute_result",
          "data": {
            "text/plain": [
              "tensor([[18, 19],\n",
              "        [23, 24]])"
            ]
          },
          "metadata": {},
          "execution_count": 10
        }
      ]
    },
    {
      "cell_type": "code",
      "source": [
        " # generating random number tensor using randn\n",
        " torch.randn(2, 3, 5, 5)"
      ],
      "metadata": {
        "colab": {
          "base_uri": "https://localhost:8080/"
        },
        "id": "7sGdjaSVH9qj",
        "outputId": "9bf66a30-5d93-44b2-f84c-96cd58221548"
      },
      "execution_count": 11,
      "outputs": [
        {
          "output_type": "execute_result",
          "data": {
            "text/plain": [
              "tensor([[[[ 0.7598, -0.4753,  1.6041, -1.3979, -1.1074],\n",
              "          [ 0.6912, -0.9188, -0.3567, -0.1687,  1.1361],\n",
              "          [ 0.6883, -0.4736, -0.5451, -1.4738,  0.2502],\n",
              "          [ 1.8856,  0.2118,  2.3548, -1.6191,  0.9984],\n",
              "          [ 1.8619, -0.1824,  1.5278,  1.1053,  1.0730]],\n",
              "\n",
              "         [[-1.0773, -0.0840, -0.3996,  1.5316,  0.3858],\n",
              "          [-2.2782, -0.9343,  0.1513,  0.8335, -0.0629],\n",
              "          [ 0.3210, -0.5942,  1.1984, -2.3289,  0.0761],\n",
              "          [-1.5453,  0.3245, -0.3282, -0.1861, -1.0189],\n",
              "          [-1.7208,  0.5930, -0.8373,  2.3983,  0.5823]],\n",
              "\n",
              "         [[-0.8877, -0.0361,  0.3393, -0.8331, -0.9037],\n",
              "          [ 0.5425,  0.0353,  1.1095, -0.2035,  0.8086],\n",
              "          [ 0.4405, -0.1530,  2.6373,  1.0950, -0.7117],\n",
              "          [ 0.6210, -1.5394, -0.2891, -0.0041,  0.2694],\n",
              "          [-0.2941,  0.6258, -0.1718,  0.0763, -1.3033]]],\n",
              "\n",
              "\n",
              "        [[[ 0.5849, -1.5148,  0.6133, -0.1232,  0.7572],\n",
              "          [-2.0075, -1.8055, -0.0394,  0.2301,  1.1999],\n",
              "          [ 0.9281,  0.9771,  0.9868,  1.1104, -1.9886],\n",
              "          [-0.8025,  1.4327, -0.6315, -0.7856, -0.5809],\n",
              "          [ 0.8243, -1.1831,  0.8740, -1.1299, -0.4218]],\n",
              "\n",
              "         [[-0.0084,  0.5588,  1.4776,  0.6802,  0.0854],\n",
              "          [-1.5136,  0.1133, -0.2636, -0.5982, -0.9603],\n",
              "          [-1.8146,  0.6980, -1.5552,  1.0847, -0.4593],\n",
              "          [ 1.5665, -0.0562,  0.4569,  0.0487,  1.6214],\n",
              "          [ 0.3998, -1.8760,  0.7827, -0.8318, -1.3600]],\n",
              "\n",
              "         [[-0.2349, -0.0655,  1.4027,  1.0574,  0.3161],\n",
              "          [-0.1235, -0.7239,  0.0714,  0.0275,  0.2003],\n",
              "          [-0.1188,  1.3833,  1.1895,  1.0610,  0.5714],\n",
              "          [ 0.3325,  0.5158,  0.5341, -0.0578,  0.3733],\n",
              "          [-1.7146,  0.4188,  1.9172, -0.6415, -0.1228]]]])"
            ]
          },
          "metadata": {},
          "execution_count": 11
        }
      ]
    },
    {
      "cell_type": "markdown",
      "source": [
        "Transposing the tensor"
      ],
      "metadata": {
        "id": "6wwKr_UElKO6"
      }
    },
    {
      "cell_type": "code",
      "source": [
        "x"
      ],
      "metadata": {
        "colab": {
          "base_uri": "https://localhost:8080/"
        },
        "id": "4tZSQ8G4IO3T",
        "outputId": "8f224d39-ee79-4b7e-80b0-59bfb6ba147e"
      },
      "execution_count": 12,
      "outputs": [
        {
          "output_type": "execute_result",
          "data": {
            "text/plain": [
              "tensor([[ 0,  1,  2,  3,  4],\n",
              "        [ 5,  6,  7,  8,  9],\n",
              "        [10, 11, 12, 13, 14],\n",
              "        [15, 16, 17, 18, 19],\n",
              "        [20, 21, 22, 23, 24]])"
            ]
          },
          "metadata": {},
          "execution_count": 12
        }
      ]
    },
    {
      "cell_type": "code",
      "source": [
        "x.t()"
      ],
      "metadata": {
        "colab": {
          "base_uri": "https://localhost:8080/"
        },
        "id": "nFW66mvrlHRY",
        "outputId": "5bd986c2-6e1e-4b70-903a-f80ae5a3e561"
      },
      "execution_count": 13,
      "outputs": [
        {
          "output_type": "execute_result",
          "data": {
            "text/plain": [
              "tensor([[ 0,  5, 10, 15, 20],\n",
              "        [ 1,  6, 11, 16, 21],\n",
              "        [ 2,  7, 12, 17, 22],\n",
              "        [ 3,  8, 13, 18, 23],\n",
              "        [ 4,  9, 14, 19, 24]])"
            ]
          },
          "metadata": {},
          "execution_count": 13
        }
      ]
    },
    {
      "cell_type": "code",
      "source": [
        "torch.mean(x.to(torch.float), dim=1)"
      ],
      "metadata": {
        "colab": {
          "base_uri": "https://localhost:8080/"
        },
        "id": "b41OtSKvlICR",
        "outputId": "95d82eda-a31d-41ec-dbab-37ed3795b462"
      },
      "execution_count": 14,
      "outputs": [
        {
          "output_type": "execute_result",
          "data": {
            "text/plain": [
              "tensor([ 2.,  7., 12., 17., 22.])"
            ]
          },
          "metadata": {},
          "execution_count": 14
        }
      ]
    },
    {
      "cell_type": "code",
      "source": [
        "x[x%2==0]"
      ],
      "metadata": {
        "colab": {
          "base_uri": "https://localhost:8080/"
        },
        "id": "n4vZFr5Hn-tD",
        "outputId": "58b1cebc-bb0c-48f1-c21f-a2b3583651d1"
      },
      "execution_count": 15,
      "outputs": [
        {
          "output_type": "execute_result",
          "data": {
            "text/plain": [
              "tensor([ 0,  2,  4,  6,  8, 10, 12, 14, 16, 18, 20, 22, 24])"
            ]
          },
          "metadata": {},
          "execution_count": 15
        }
      ]
    },
    {
      "cell_type": "markdown",
      "source": [
        "## Attributes of a Tensor\n",
        "\n",
        "** Tensor attributes describe their shape, datatype, and the device on which they are stored. **\n",
        "\n"
      ],
      "metadata": {
        "id": "0FGSfZMiOjJJ"
      }
    },
    {
      "cell_type": "code",
      "source": [],
      "metadata": {
        "id": "7I190UbhobI_"
      },
      "execution_count": 15,
      "outputs": []
    },
    {
      "cell_type": "code",
      "source": [
        "print(f\"Shape of tensor: {x.shape}\")\n",
        "print(f\"Datatype of tensor: {x.dtype}\")\n",
        "print(f\"Device tensor is stored on: {x.device}\")"
      ],
      "metadata": {
        "colab": {
          "base_uri": "https://localhost:8080/"
        },
        "id": "5PT5KLZnOhZn",
        "outputId": "52b766cf-c13f-467d-f765-408ea0d1b158"
      },
      "execution_count": 16,
      "outputs": [
        {
          "output_type": "stream",
          "name": "stdout",
          "text": [
            "Shape of tensor: torch.Size([5, 5])\n",
            "Datatype of tensor: torch.int64\n",
            "Device tensor is stored on: cpu\n"
          ]
        }
      ]
    },
    {
      "cell_type": "markdown",
      "source": [
        "### Simple tensor operations"
      ],
      "metadata": {
        "id": "Lvsr-aBfPgxn"
      }
    },
    {
      "cell_type": "code",
      "source": [
        "a = torch.ones(1,5)\n",
        "b = torch.zeros(1,5)\n",
        "a, b"
      ],
      "metadata": {
        "colab": {
          "base_uri": "https://localhost:8080/"
        },
        "id": "8JEuNYuLOuL7",
        "outputId": "211b901b-afd5-49b7-a5c4-681aa7c55373"
      },
      "execution_count": 17,
      "outputs": [
        {
          "output_type": "execute_result",
          "data": {
            "text/plain": [
              "(tensor([[1., 1., 1., 1., 1.]]), tensor([[0., 0., 0., 0., 0.]]))"
            ]
          },
          "metadata": {},
          "execution_count": 17
        }
      ]
    },
    {
      "cell_type": "code",
      "source": [
        "torch.cat([a,b], dim=1)"
      ],
      "metadata": {
        "colab": {
          "base_uri": "https://localhost:8080/"
        },
        "id": "CEGY7FylPojd",
        "outputId": "979efae1-ac7a-4775-9ed9-ea8d098c8280"
      },
      "execution_count": 18,
      "outputs": [
        {
          "output_type": "execute_result",
          "data": {
            "text/plain": [
              "tensor([[1., 1., 1., 1., 1., 0., 0., 0., 0., 0.]])"
            ]
          },
          "metadata": {},
          "execution_count": 18
        }
      ]
    },
    {
      "cell_type": "markdown",
      "source": [
        "Matrix multipication"
      ],
      "metadata": {
        "id": "gKfrHdEEY7tM"
      }
    },
    {
      "cell_type": "code",
      "source": [
        "a = torch.tensor([[1,2], [3,4]])\n",
        "b = torch.tensor([\n",
        "    [5,6,2],\n",
        "    [7,8,2]\n",
        "])"
      ],
      "metadata": {
        "id": "653Z_ZfPP3Zp"
      },
      "execution_count": 21,
      "outputs": []
    },
    {
      "cell_type": "code",
      "source": [
        "a@b"
      ],
      "metadata": {
        "colab": {
          "base_uri": "https://localhost:8080/"
        },
        "id": "RK_wYTYFYqYD",
        "outputId": "977ad9cc-5240-4726-d349-1ad5781d3601"
      },
      "execution_count": 23,
      "outputs": [
        {
          "output_type": "execute_result",
          "data": {
            "text/plain": [
              "tensor([[19, 22,  6],\n",
              "        [43, 50, 14]])"
            ]
          },
          "metadata": {},
          "execution_count": 23
        }
      ]
    },
    {
      "cell_type": "code",
      "source": [
        "torch.matmul(a,b)"
      ],
      "metadata": {
        "colab": {
          "base_uri": "https://localhost:8080/"
        },
        "id": "VY-smwMCYrrl",
        "outputId": "f90905bb-48af-4bc6-87ca-4f92828822a7"
      },
      "execution_count": 24,
      "outputs": [
        {
          "output_type": "execute_result",
          "data": {
            "text/plain": [
              "tensor([[19, 22,  6],\n",
              "        [43, 50, 14]])"
            ]
          },
          "metadata": {},
          "execution_count": 24
        }
      ]
    },
    {
      "cell_type": "code",
      "source": [],
      "metadata": {
        "id": "AcaowAxBY_dO"
      },
      "execution_count": null,
      "outputs": []
    }
  ]
}