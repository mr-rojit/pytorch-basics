{
  "nbformat": 4,
  "nbformat_minor": 0,
  "metadata": {
    "colab": {
      "provenance": []
    },
    "kernelspec": {
      "name": "python3",
      "display_name": "Python 3"
    },
    "language_info": {
      "name": "python"
    }
  },
  "cells": [
    {
      "cell_type": "code",
      "execution_count": 1,
      "metadata": {
        "id": "h9mf13AYBx53"
      },
      "outputs": [],
      "source": [
        "import torch"
      ]
    },
    {
      "cell_type": "code",
      "source": [
        "torch.__version__"
      ],
      "metadata": {
        "colab": {
          "base_uri": "https://localhost:8080/",
          "height": 36
        },
        "id": "Fkbk_QDQcwfu",
        "outputId": "b44ede7a-226c-45f9-aa09-51533415ac87"
      },
      "execution_count": 2,
      "outputs": [
        {
          "output_type": "execute_result",
          "data": {
            "text/plain": [
              "'2.1.0+cu121'"
            ],
            "application/vnd.google.colaboratory.intrinsic+json": {
              "type": "string"
            }
          },
          "metadata": {},
          "execution_count": 2
        }
      ]
    },
    {
      "cell_type": "markdown",
      "source": [
        "Introduction to Tensors"
      ],
      "metadata": {
        "id": "CTaF_uZSdLy9"
      }
    },
    {
      "cell_type": "code",
      "source": [
        "# scaler\n",
        "s = torch.tensor(17)\n",
        "print(s)\n",
        "s.dtype"
      ],
      "metadata": {
        "colab": {
          "base_uri": "https://localhost:8080/"
        },
        "id": "hAkqSxD4c-Kw",
        "outputId": "2d08a945-df67-44ff-8ef9-e7db7977007e"
      },
      "execution_count": 7,
      "outputs": [
        {
          "output_type": "stream",
          "name": "stdout",
          "text": [
            "tensor(17)\n"
          ]
        },
        {
          "output_type": "execute_result",
          "data": {
            "text/plain": [
              "torch.int64"
            ]
          },
          "metadata": {},
          "execution_count": 7
        }
      ]
    },
    {
      "cell_type": "code",
      "source": [
        "s.shape, s.ndim"
      ],
      "metadata": {
        "colab": {
          "base_uri": "https://localhost:8080/"
        },
        "id": "RzLkwTRBdVtt",
        "outputId": "8e0aa78c-35e6-4d8a-d053-a3b9a663b38e"
      },
      "execution_count": 9,
      "outputs": [
        {
          "output_type": "execute_result",
          "data": {
            "text/plain": [
              "(torch.Size([]), 0)"
            ]
          },
          "metadata": {},
          "execution_count": 9
        }
      ]
    },
    {
      "cell_type": "code",
      "source": [
        "# get the value back as python int; using item() method\n",
        "s.item(), type(s.item())"
      ],
      "metadata": {
        "colab": {
          "base_uri": "https://localhost:8080/"
        },
        "id": "wq5tG3OpdZa1",
        "outputId": "702c80a9-b953-42db-ef00-16ce917325c7"
      },
      "execution_count": 12,
      "outputs": [
        {
          "output_type": "execute_result",
          "data": {
            "text/plain": [
              "(17, int)"
            ]
          },
          "metadata": {},
          "execution_count": 12
        }
      ]
    },
    {
      "cell_type": "code",
      "source": [
        "# Creating vectors\n",
        "v =  torch.tensor([4, 17])\n",
        "print(v)\n",
        "v.dtype"
      ],
      "metadata": {
        "colab": {
          "base_uri": "https://localhost:8080/"
        },
        "id": "uDee5rmId1Ne",
        "outputId": "7547b59e-e0fb-435a-cf7a-27b1b6cca9c8"
      },
      "execution_count": 13,
      "outputs": [
        {
          "output_type": "stream",
          "name": "stdout",
          "text": [
            "tensor([ 4, 17])\n"
          ]
        },
        {
          "output_type": "execute_result",
          "data": {
            "text/plain": [
              "torch.int64"
            ]
          },
          "metadata": {},
          "execution_count": 13
        }
      ]
    },
    {
      "cell_type": "code",
      "source": [
        "v.ndim, v.shape"
      ],
      "metadata": {
        "colab": {
          "base_uri": "https://localhost:8080/"
        },
        "id": "47GXe5oeeK8t",
        "outputId": "063fa94a-fbc6-47af-fab9-df1c589d0752"
      },
      "execution_count": 15,
      "outputs": [
        {
          "output_type": "execute_result",
          "data": {
            "text/plain": [
              "(1, torch.Size([2]))"
            ]
          },
          "metadata": {},
          "execution_count": 15
        }
      ]
    },
    {
      "cell_type": "code",
      "source": [
        "# creating Matrices\n",
        "matrix = torch.tensor([[1,2], [3,4]])\n",
        "matrix"
      ],
      "metadata": {
        "colab": {
          "base_uri": "https://localhost:8080/"
        },
        "id": "O2uPxLl3eNEq",
        "outputId": "5630fe92-ee3c-4a67-a846-1d342f58205c"
      },
      "execution_count": 16,
      "outputs": [
        {
          "output_type": "execute_result",
          "data": {
            "text/plain": [
              "tensor([[1, 2],\n",
              "        [3, 4]])"
            ]
          },
          "metadata": {},
          "execution_count": 16
        }
      ]
    },
    {
      "cell_type": "code",
      "source": [
        "matrix.ndim"
      ],
      "metadata": {
        "colab": {
          "base_uri": "https://localhost:8080/"
        },
        "id": "E_a426G0eaYL",
        "outputId": "2a878127-6c97-4f7e-c91b-3704e72ec0ba"
      },
      "execution_count": 17,
      "outputs": [
        {
          "output_type": "execute_result",
          "data": {
            "text/plain": [
              "2"
            ]
          },
          "metadata": {},
          "execution_count": 17
        }
      ]
    },
    {
      "cell_type": "code",
      "source": [
        "matrix.shape"
      ],
      "metadata": {
        "colab": {
          "base_uri": "https://localhost:8080/"
        },
        "id": "zrHVcy3Kf-Pf",
        "outputId": "a9858401-e45e-44c9-e3df-92e37b966594"
      },
      "execution_count": 18,
      "outputs": [
        {
          "output_type": "execute_result",
          "data": {
            "text/plain": [
              "torch.Size([2, 2])"
            ]
          },
          "metadata": {},
          "execution_count": 18
        }
      ]
    },
    {
      "cell_type": "code",
      "source": [
        "t = torch.tensor([\n",
        "    [[51, 2],\n",
        "    [3, 4]],\n",
        "    [[14, 12],\n",
        "    [87, 46]]\n",
        "])\n",
        "t"
      ],
      "metadata": {
        "colab": {
          "base_uri": "https://localhost:8080/"
        },
        "id": "ZWmjjGK0gAHs",
        "outputId": "12424668-64b8-4727-b80f-3743384ff58d"
      },
      "execution_count": 24,
      "outputs": [
        {
          "output_type": "execute_result",
          "data": {
            "text/plain": [
              "tensor([[[51,  2],\n",
              "         [ 3,  4]],\n",
              "\n",
              "        [[14, 12],\n",
              "         [87, 46]]])"
            ]
          },
          "metadata": {},
          "execution_count": 24
        }
      ]
    },
    {
      "cell_type": "code",
      "source": [
        "t.shape, t.ndim"
      ],
      "metadata": {
        "colab": {
          "base_uri": "https://localhost:8080/"
        },
        "id": "8qm7mSC8gWAp",
        "outputId": "db6eeeea-fca6-4585-e93c-1227b452231d"
      },
      "execution_count": 25,
      "outputs": [
        {
          "output_type": "execute_result",
          "data": {
            "text/plain": [
              "(torch.Size([2, 2, 2]), 3)"
            ]
          },
          "metadata": {},
          "execution_count": 25
        }
      ]
    },
    {
      "cell_type": "markdown",
      "source": [
        "Creating random tensors"
      ],
      "metadata": {
        "id": "48GkEOuUh616"
      }
    },
    {
      "cell_type": "code",
      "source": [
        "rt = torch.rand(4,3)\n",
        "rt"
      ],
      "metadata": {
        "colab": {
          "base_uri": "https://localhost:8080/"
        },
        "id": "bSUt6N4UgX1O",
        "outputId": "6915bac8-192e-4223-955e-3824c485d792"
      },
      "execution_count": 26,
      "outputs": [
        {
          "output_type": "execute_result",
          "data": {
            "text/plain": [
              "tensor([[0.8772, 0.0139, 0.9021],\n",
              "        [0.0876, 0.4662, 0.6426],\n",
              "        [0.5464, 0.7227, 0.8716],\n",
              "        [0.8582, 0.7881, 0.5640]])"
            ]
          },
          "metadata": {},
          "execution_count": 26
        }
      ]
    },
    {
      "cell_type": "code",
      "source": [
        "rt*10"
      ],
      "metadata": {
        "colab": {
          "base_uri": "https://localhost:8080/"
        },
        "id": "yPTUb8g9iBzQ",
        "outputId": "df16513d-e2eb-4f4b-a56a-8067a5e123f6"
      },
      "execution_count": 27,
      "outputs": [
        {
          "output_type": "execute_result",
          "data": {
            "text/plain": [
              "tensor([[8.7722, 0.1389, 9.0211],\n",
              "        [0.8757, 4.6616, 6.4264],\n",
              "        [5.4640, 7.2273, 8.7157],\n",
              "        [8.5824, 7.8810, 5.6404]])"
            ]
          },
          "metadata": {},
          "execution_count": 27
        }
      ]
    },
    {
      "cell_type": "code",
      "source": [
        "rt3 = torch.rand(4,2,2)\n",
        "rt3"
      ],
      "metadata": {
        "colab": {
          "base_uri": "https://localhost:8080/"
        },
        "id": "WtQ4zv5OiD-Q",
        "outputId": "84386d93-948e-4c16-fc89-c9967c1180e6"
      },
      "execution_count": 30,
      "outputs": [
        {
          "output_type": "execute_result",
          "data": {
            "text/plain": [
              "tensor([[[0.2879, 0.5634],\n",
              "         [0.7402, 0.9323]],\n",
              "\n",
              "        [[0.0672, 0.8519],\n",
              "         [0.1987, 0.8175]],\n",
              "\n",
              "        [[0.1261, 0.9043],\n",
              "         [0.6411, 0.1704]],\n",
              "\n",
              "        [[0.7435, 0.3677],\n",
              "         [0.3109, 0.5883]]])"
            ]
          },
          "metadata": {},
          "execution_count": 30
        }
      ]
    },
    {
      "cell_type": "code",
      "source": [],
      "metadata": {
        "id": "9IevxlveiRvN"
      },
      "execution_count": null,
      "outputs": []
    }
  ]
}