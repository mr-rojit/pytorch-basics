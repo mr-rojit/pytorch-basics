{
  "nbformat": 4,
  "nbformat_minor": 0,
  "metadata": {
    "colab": {
      "provenance": []
    },
    "kernelspec": {
      "name": "python3",
      "display_name": "Python 3"
    },
    "language_info": {
      "name": "python"
    }
  },
  "cells": [
    {
      "cell_type": "code",
      "execution_count": 1,
      "metadata": {
        "id": "h9mf13AYBx53"
      },
      "outputs": [],
      "source": [
        "import torch"
      ]
    },
    {
      "cell_type": "code",
      "source": [
        "torch.__version__"
      ],
      "metadata": {
        "colab": {
          "base_uri": "https://localhost:8080/",
          "height": 36
        },
        "id": "Fkbk_QDQcwfu",
        "outputId": "3ff1c93e-52e7-4d6d-c18b-d05ef0741643"
      },
      "execution_count": 2,
      "outputs": [
        {
          "output_type": "execute_result",
          "data": {
            "text/plain": [
              "'2.1.0+cu121'"
            ],
            "application/vnd.google.colaboratory.intrinsic+json": {
              "type": "string"
            }
          },
          "metadata": {},
          "execution_count": 2
        }
      ]
    },
    {
      "cell_type": "markdown",
      "source": [
        "Introduction to Tensors"
      ],
      "metadata": {
        "id": "CTaF_uZSdLy9"
      }
    },
    {
      "cell_type": "code",
      "source": [
        "# scaler\n",
        "s = torch.tensor(17)\n",
        "print(s)\n",
        "s.dtype"
      ],
      "metadata": {
        "colab": {
          "base_uri": "https://localhost:8080/"
        },
        "id": "hAkqSxD4c-Kw",
        "outputId": "8d6e7b6f-775e-4e09-b264-3c45e7ae2575"
      },
      "execution_count": 3,
      "outputs": [
        {
          "output_type": "stream",
          "name": "stdout",
          "text": [
            "tensor(17)\n"
          ]
        },
        {
          "output_type": "execute_result",
          "data": {
            "text/plain": [
              "torch.int64"
            ]
          },
          "metadata": {},
          "execution_count": 3
        }
      ]
    },
    {
      "cell_type": "code",
      "source": [
        "s.shape, s.ndim"
      ],
      "metadata": {
        "colab": {
          "base_uri": "https://localhost:8080/"
        },
        "id": "RzLkwTRBdVtt",
        "outputId": "c6bd8505-5efa-4f22-cf1e-29b0917c5284"
      },
      "execution_count": 4,
      "outputs": [
        {
          "output_type": "execute_result",
          "data": {
            "text/plain": [
              "(torch.Size([]), 0)"
            ]
          },
          "metadata": {},
          "execution_count": 4
        }
      ]
    },
    {
      "cell_type": "code",
      "source": [
        "# get the value back as python int; using item() method\n",
        "s.item(), type(s.item())"
      ],
      "metadata": {
        "colab": {
          "base_uri": "https://localhost:8080/"
        },
        "id": "wq5tG3OpdZa1",
        "outputId": "9617e64b-1e52-4f51-e0ac-9f7a53cbcd90"
      },
      "execution_count": 5,
      "outputs": [
        {
          "output_type": "execute_result",
          "data": {
            "text/plain": [
              "(17, int)"
            ]
          },
          "metadata": {},
          "execution_count": 5
        }
      ]
    },
    {
      "cell_type": "code",
      "source": [
        "# Creating vectors\n",
        "v =  torch.tensor([4, 17])\n",
        "print(v)\n",
        "v.dtype"
      ],
      "metadata": {
        "colab": {
          "base_uri": "https://localhost:8080/"
        },
        "id": "uDee5rmId1Ne",
        "outputId": "ad3632fb-7138-43ee-8989-0c8f4107d480"
      },
      "execution_count": 6,
      "outputs": [
        {
          "output_type": "stream",
          "name": "stdout",
          "text": [
            "tensor([ 4, 17])\n"
          ]
        },
        {
          "output_type": "execute_result",
          "data": {
            "text/plain": [
              "torch.int64"
            ]
          },
          "metadata": {},
          "execution_count": 6
        }
      ]
    },
    {
      "cell_type": "code",
      "source": [
        "v.ndim, v.shape"
      ],
      "metadata": {
        "colab": {
          "base_uri": "https://localhost:8080/"
        },
        "id": "47GXe5oeeK8t",
        "outputId": "62c675cc-1c3e-4dde-c16f-135b3fe0aa47"
      },
      "execution_count": 7,
      "outputs": [
        {
          "output_type": "execute_result",
          "data": {
            "text/plain": [
              "(1, torch.Size([2]))"
            ]
          },
          "metadata": {},
          "execution_count": 7
        }
      ]
    },
    {
      "cell_type": "code",
      "source": [
        "# creating Matrices\n",
        "matrix = torch.tensor([[1,2], [3,4]])\n",
        "matrix"
      ],
      "metadata": {
        "colab": {
          "base_uri": "https://localhost:8080/"
        },
        "id": "O2uPxLl3eNEq",
        "outputId": "4a07f429-97c2-476b-9520-7b90e2c2eb04"
      },
      "execution_count": 8,
      "outputs": [
        {
          "output_type": "execute_result",
          "data": {
            "text/plain": [
              "tensor([[1, 2],\n",
              "        [3, 4]])"
            ]
          },
          "metadata": {},
          "execution_count": 8
        }
      ]
    },
    {
      "cell_type": "code",
      "source": [
        "matrix.ndim"
      ],
      "metadata": {
        "colab": {
          "base_uri": "https://localhost:8080/"
        },
        "id": "E_a426G0eaYL",
        "outputId": "804793a4-bcaf-4170-fd01-4c338ff3aedb"
      },
      "execution_count": 9,
      "outputs": [
        {
          "output_type": "execute_result",
          "data": {
            "text/plain": [
              "2"
            ]
          },
          "metadata": {},
          "execution_count": 9
        }
      ]
    },
    {
      "cell_type": "code",
      "source": [
        "matrix.shape"
      ],
      "metadata": {
        "colab": {
          "base_uri": "https://localhost:8080/"
        },
        "id": "zrHVcy3Kf-Pf",
        "outputId": "297720c9-acb7-4156-eda0-c5806a4df7bd"
      },
      "execution_count": 10,
      "outputs": [
        {
          "output_type": "execute_result",
          "data": {
            "text/plain": [
              "torch.Size([2, 2])"
            ]
          },
          "metadata": {},
          "execution_count": 10
        }
      ]
    },
    {
      "cell_type": "code",
      "source": [
        "t = torch.tensor([\n",
        "    [[51, 2],\n",
        "    [3, 4]],\n",
        "    [[14, 12],\n",
        "    [87, 46]]\n",
        "])\n",
        "t"
      ],
      "metadata": {
        "colab": {
          "base_uri": "https://localhost:8080/"
        },
        "id": "ZWmjjGK0gAHs",
        "outputId": "5b585994-a3ba-469b-ef35-6cb28bd471b0"
      },
      "execution_count": 11,
      "outputs": [
        {
          "output_type": "execute_result",
          "data": {
            "text/plain": [
              "tensor([[[51,  2],\n",
              "         [ 3,  4]],\n",
              "\n",
              "        [[14, 12],\n",
              "         [87, 46]]])"
            ]
          },
          "metadata": {},
          "execution_count": 11
        }
      ]
    },
    {
      "cell_type": "code",
      "source": [
        "t.shape, t.ndim"
      ],
      "metadata": {
        "colab": {
          "base_uri": "https://localhost:8080/"
        },
        "id": "8qm7mSC8gWAp",
        "outputId": "b49887d5-3511-4ad5-c1d5-c21cb7829c9e"
      },
      "execution_count": 12,
      "outputs": [
        {
          "output_type": "execute_result",
          "data": {
            "text/plain": [
              "(torch.Size([2, 2, 2]), 3)"
            ]
          },
          "metadata": {},
          "execution_count": 12
        }
      ]
    },
    {
      "cell_type": "markdown",
      "source": [
        "Creating random tensors"
      ],
      "metadata": {
        "id": "48GkEOuUh616"
      }
    },
    {
      "cell_type": "code",
      "source": [
        "rt = torch.rand(4,3)\n",
        "rt"
      ],
      "metadata": {
        "colab": {
          "base_uri": "https://localhost:8080/"
        },
        "id": "bSUt6N4UgX1O",
        "outputId": "7774472d-a187-47b3-d889-9ce3ac0efbad"
      },
      "execution_count": 13,
      "outputs": [
        {
          "output_type": "execute_result",
          "data": {
            "text/plain": [
              "tensor([[0.6884, 0.8590, 0.7551],\n",
              "        [0.0651, 0.2770, 0.1944],\n",
              "        [0.7175, 0.2729, 0.7958],\n",
              "        [0.8764, 0.6575, 0.9012]])"
            ]
          },
          "metadata": {},
          "execution_count": 13
        }
      ]
    },
    {
      "cell_type": "code",
      "source": [
        "rt*10"
      ],
      "metadata": {
        "colab": {
          "base_uri": "https://localhost:8080/"
        },
        "id": "yPTUb8g9iBzQ",
        "outputId": "a67bfe19-2988-4e37-eec0-8a07c88fa546"
      },
      "execution_count": 14,
      "outputs": [
        {
          "output_type": "execute_result",
          "data": {
            "text/plain": [
              "tensor([[6.8836, 8.5895, 7.5506],\n",
              "        [0.6507, 2.7703, 1.9437],\n",
              "        [7.1753, 2.7293, 7.9584],\n",
              "        [8.7640, 6.5749, 9.0117]])"
            ]
          },
          "metadata": {},
          "execution_count": 14
        }
      ]
    },
    {
      "cell_type": "code",
      "source": [
        "rt3 = torch.rand(4,2,2)\n",
        "rt3"
      ],
      "metadata": {
        "colab": {
          "base_uri": "https://localhost:8080/"
        },
        "id": "WtQ4zv5OiD-Q",
        "outputId": "dccf075f-6400-4680-d989-bfbbf8a501c4"
      },
      "execution_count": 15,
      "outputs": [
        {
          "output_type": "execute_result",
          "data": {
            "text/plain": [
              "tensor([[[0.8539, 0.3917],\n",
              "         [0.2773, 0.7774]],\n",
              "\n",
              "        [[0.3790, 0.6135],\n",
              "         [0.3279, 0.5509]],\n",
              "\n",
              "        [[0.8223, 0.9527],\n",
              "         [0.4975, 0.9199]],\n",
              "\n",
              "        [[0.0536, 0.1105],\n",
              "         [0.4695, 0.8589]]])"
            ]
          },
          "metadata": {},
          "execution_count": 15
        }
      ]
    },
    {
      "cell_type": "markdown",
      "source": [
        "Tensor Operations"
      ],
      "metadata": {
        "id": "0XtgJhsC7V9A"
      }
    },
    {
      "cell_type": "code",
      "source": [
        "# There will be element wise operations\n",
        "a = torch.tensor([1,3,5])\n",
        "b = torch.tensor([2,4,6])\n",
        "a+b"
      ],
      "metadata": {
        "id": "9IevxlveiRvN",
        "colab": {
          "base_uri": "https://localhost:8080/"
        },
        "outputId": "821e79f1-bace-45fe-fc6e-72679798647a"
      },
      "execution_count": 16,
      "outputs": [
        {
          "output_type": "execute_result",
          "data": {
            "text/plain": [
              "tensor([ 3,  7, 11])"
            ]
          },
          "metadata": {},
          "execution_count": 16
        }
      ]
    },
    {
      "cell_type": "code",
      "source": [
        "a-b"
      ],
      "metadata": {
        "colab": {
          "base_uri": "https://localhost:8080/"
        },
        "id": "DO_W8BuT7mpU",
        "outputId": "0edde6d1-90f9-4f7e-f153-51fa9cdea6d4"
      },
      "execution_count": 17,
      "outputs": [
        {
          "output_type": "execute_result",
          "data": {
            "text/plain": [
              "tensor([-1, -1, -1])"
            ]
          },
          "metadata": {},
          "execution_count": 17
        }
      ]
    },
    {
      "cell_type": "code",
      "source": [
        "a*b"
      ],
      "metadata": {
        "colab": {
          "base_uri": "https://localhost:8080/"
        },
        "id": "dy1FyjLZ8AjX",
        "outputId": "6dc400a0-54f0-44a2-a1d4-beb06bb72e00"
      },
      "execution_count": 18,
      "outputs": [
        {
          "output_type": "execute_result",
          "data": {
            "text/plain": [
              "tensor([ 2, 12, 30])"
            ]
          },
          "metadata": {},
          "execution_count": 18
        }
      ]
    },
    {
      "cell_type": "code",
      "source": [
        "# scaler addition and multipication\n",
        "a * 2"
      ],
      "metadata": {
        "colab": {
          "base_uri": "https://localhost:8080/"
        },
        "id": "mzVHMK977qSA",
        "outputId": "aca9c39a-e717-4d1c-f711-ec0754c72ef4"
      },
      "execution_count": 19,
      "outputs": [
        {
          "output_type": "execute_result",
          "data": {
            "text/plain": [
              "tensor([ 2,  6, 10])"
            ]
          },
          "metadata": {},
          "execution_count": 19
        }
      ]
    },
    {
      "cell_type": "code",
      "source": [
        "b +10"
      ],
      "metadata": {
        "colab": {
          "base_uri": "https://localhost:8080/"
        },
        "id": "lgWpte6k7yFK",
        "outputId": "308ce02e-4631-45f0-dff6-f93e163931d1"
      },
      "execution_count": 20,
      "outputs": [
        {
          "output_type": "execute_result",
          "data": {
            "text/plain": [
              "tensor([12, 14, 16])"
            ]
          },
          "metadata": {},
          "execution_count": 20
        }
      ]
    },
    {
      "cell_type": "markdown",
      "source": [
        "Matrix Multipication"
      ],
      "metadata": {
        "id": "P5QjZQ0N8aV5"
      }
    },
    {
      "cell_type": "code",
      "source": [
        "# getting a dot product of a and b\n",
        "a.dot(b)"
      ],
      "metadata": {
        "colab": {
          "base_uri": "https://localhost:8080/"
        },
        "id": "xlHIw8ef8xdG",
        "outputId": "5f25abb6-37d1-4ec7-ad7d-0d4e21c2cbfc"
      },
      "execution_count": 21,
      "outputs": [
        {
          "output_type": "execute_result",
          "data": {
            "text/plain": [
              "tensor(44)"
            ]
          },
          "metadata": {},
          "execution_count": 21
        }
      ]
    },
    {
      "cell_type": "code",
      "source": [
        "x = torch.tensor([\n",
        "    [1,2],\n",
        "    [3,4]\n",
        "])\n",
        "\n",
        "y = torch.tensor([\n",
        "    [3,1],\n",
        "    [2,6]\n",
        "])"
      ],
      "metadata": {
        "id": "ZmNVn1Ev8aAz"
      },
      "execution_count": 22,
      "outputs": []
    },
    {
      "cell_type": "code",
      "source": [
        "# using * will do element wise multipication\n",
        "x*y"
      ],
      "metadata": {
        "colab": {
          "base_uri": "https://localhost:8080/"
        },
        "id": "wnLWumbZ7zY1",
        "outputId": "414decf4-9b9c-4df2-e7e2-204df5e4a7d7"
      },
      "execution_count": 23,
      "outputs": [
        {
          "output_type": "execute_result",
          "data": {
            "text/plain": [
              "tensor([[ 3,  2],\n",
              "        [ 6, 24]])"
            ]
          },
          "metadata": {},
          "execution_count": 23
        }
      ]
    },
    {
      "cell_type": "code",
      "source": [
        "# we can use matmul from torch\n",
        "torch.matmul(x,y)"
      ],
      "metadata": {
        "colab": {
          "base_uri": "https://localhost:8080/"
        },
        "id": "GZm_Mn1678fm",
        "outputId": "107de9bf-8f7e-4ea5-b505-e57ebb73353a"
      },
      "execution_count": 24,
      "outputs": [
        {
          "output_type": "execute_result",
          "data": {
            "text/plain": [
              "tensor([[ 7, 13],\n",
              "        [17, 27]])"
            ]
          },
          "metadata": {},
          "execution_count": 24
        }
      ]
    },
    {
      "cell_type": "code",
      "source": [],
      "metadata": {
        "id": "KUW_ykxO9UGa"
      },
      "execution_count": 24,
      "outputs": []
    }
  ]
}