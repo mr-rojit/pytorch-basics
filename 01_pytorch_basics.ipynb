{
  "nbformat": 4,
  "nbformat_minor": 0,
  "metadata": {
    "colab": {
      "provenance": [],
      "authorship_tag": "ABX9TyNTbal031BnrqsqPRawoo2+",
      "include_colab_link": true
    },
    "kernelspec": {
      "name": "python3",
      "display_name": "Python 3"
    },
    "language_info": {
      "name": "python"
    }
  },
  "cells": [
    {
      "cell_type": "markdown",
      "metadata": {
        "id": "view-in-github",
        "colab_type": "text"
      },
      "source": [
        "<a href=\"https://colab.research.google.com/github/mr-rojit/pytorch-basics/blob/main/01_pytorch_basics.ipynb\" target=\"_parent\"><img src=\"https://colab.research.google.com/assets/colab-badge.svg\" alt=\"Open In Colab\"/></a>"
      ]
    },
    {
      "cell_type": "code",
      "execution_count": 1,
      "metadata": {
        "id": "h9mf13AYBx53"
      },
      "outputs": [],
      "source": [
        "import torch"
      ]
    },
    {
      "cell_type": "code",
      "source": [
        "torch.__version__"
      ],
      "metadata": {
        "colab": {
          "base_uri": "https://localhost:8080/",
          "height": 36
        },
        "id": "Fkbk_QDQcwfu",
        "outputId": "c38b3bb7-1e9d-4c71-d0e2-b8e3a780bec9"
      },
      "execution_count": 2,
      "outputs": [
        {
          "output_type": "execute_result",
          "data": {
            "text/plain": [
              "'2.1.0+cu121'"
            ],
            "application/vnd.google.colaboratory.intrinsic+json": {
              "type": "string"
            }
          },
          "metadata": {},
          "execution_count": 2
        }
      ]
    },
    {
      "cell_type": "markdown",
      "source": [
        "Introduction to Tensors"
      ],
      "metadata": {
        "id": "CTaF_uZSdLy9"
      }
    },
    {
      "cell_type": "code",
      "source": [
        "# scaler\n",
        "s = torch.tensor(17)\n",
        "print(s)\n",
        "s.dtype"
      ],
      "metadata": {
        "colab": {
          "base_uri": "https://localhost:8080/"
        },
        "id": "hAkqSxD4c-Kw",
        "outputId": "2a857a53-bb19-4b28-f1e2-ff77bdb912f5"
      },
      "execution_count": 3,
      "outputs": [
        {
          "output_type": "stream",
          "name": "stdout",
          "text": [
            "tensor(17)\n"
          ]
        },
        {
          "output_type": "execute_result",
          "data": {
            "text/plain": [
              "torch.int64"
            ]
          },
          "metadata": {},
          "execution_count": 3
        }
      ]
    },
    {
      "cell_type": "code",
      "source": [
        "s.shape, s.ndim"
      ],
      "metadata": {
        "colab": {
          "base_uri": "https://localhost:8080/"
        },
        "id": "RzLkwTRBdVtt",
        "outputId": "740f2cb0-4636-402b-8cac-732c8a83c913"
      },
      "execution_count": 4,
      "outputs": [
        {
          "output_type": "execute_result",
          "data": {
            "text/plain": [
              "(torch.Size([]), 0)"
            ]
          },
          "metadata": {},
          "execution_count": 4
        }
      ]
    },
    {
      "cell_type": "code",
      "source": [
        "# get the value back as python int; using item() method\n",
        "s.item(), type(s.item())"
      ],
      "metadata": {
        "colab": {
          "base_uri": "https://localhost:8080/"
        },
        "id": "wq5tG3OpdZa1",
        "outputId": "8200b296-30ac-4461-b847-b5dd6d5694f2"
      },
      "execution_count": 5,
      "outputs": [
        {
          "output_type": "execute_result",
          "data": {
            "text/plain": [
              "(17, int)"
            ]
          },
          "metadata": {},
          "execution_count": 5
        }
      ]
    },
    {
      "cell_type": "code",
      "source": [
        "# Creating vectors\n",
        "v =  torch.tensor([4, 17])\n",
        "print(v)\n",
        "v.dtype"
      ],
      "metadata": {
        "colab": {
          "base_uri": "https://localhost:8080/"
        },
        "id": "uDee5rmId1Ne",
        "outputId": "44a6fb50-8a17-4044-a963-4fbf6a4fd933"
      },
      "execution_count": 6,
      "outputs": [
        {
          "output_type": "stream",
          "name": "stdout",
          "text": [
            "tensor([ 4, 17])\n"
          ]
        },
        {
          "output_type": "execute_result",
          "data": {
            "text/plain": [
              "torch.int64"
            ]
          },
          "metadata": {},
          "execution_count": 6
        }
      ]
    },
    {
      "cell_type": "code",
      "source": [
        "v.ndim, v.shape"
      ],
      "metadata": {
        "colab": {
          "base_uri": "https://localhost:8080/"
        },
        "id": "47GXe5oeeK8t",
        "outputId": "12b01f49-2f2f-438e-b754-45714a348f4e"
      },
      "execution_count": 7,
      "outputs": [
        {
          "output_type": "execute_result",
          "data": {
            "text/plain": [
              "(1, torch.Size([2]))"
            ]
          },
          "metadata": {},
          "execution_count": 7
        }
      ]
    },
    {
      "cell_type": "code",
      "source": [
        "# creating Matrices\n",
        "matrix = torch.tensor([[1,2], [3,4]])\n",
        "matrix"
      ],
      "metadata": {
        "colab": {
          "base_uri": "https://localhost:8080/"
        },
        "id": "O2uPxLl3eNEq",
        "outputId": "5b65ff52-81ae-427c-b36c-a64437ef3c6a"
      },
      "execution_count": 8,
      "outputs": [
        {
          "output_type": "execute_result",
          "data": {
            "text/plain": [
              "tensor([[1, 2],\n",
              "        [3, 4]])"
            ]
          },
          "metadata": {},
          "execution_count": 8
        }
      ]
    },
    {
      "cell_type": "code",
      "source": [
        "matrix.ndim"
      ],
      "metadata": {
        "colab": {
          "base_uri": "https://localhost:8080/"
        },
        "id": "E_a426G0eaYL",
        "outputId": "487673b9-a89f-4809-c8df-12c60ab55a1c"
      },
      "execution_count": 9,
      "outputs": [
        {
          "output_type": "execute_result",
          "data": {
            "text/plain": [
              "2"
            ]
          },
          "metadata": {},
          "execution_count": 9
        }
      ]
    },
    {
      "cell_type": "code",
      "source": [
        "matrix.shape"
      ],
      "metadata": {
        "colab": {
          "base_uri": "https://localhost:8080/"
        },
        "id": "zrHVcy3Kf-Pf",
        "outputId": "112e960d-0308-4aa2-ad31-e7e14a4e81b1"
      },
      "execution_count": 10,
      "outputs": [
        {
          "output_type": "execute_result",
          "data": {
            "text/plain": [
              "torch.Size([2, 2])"
            ]
          },
          "metadata": {},
          "execution_count": 10
        }
      ]
    },
    {
      "cell_type": "code",
      "source": [
        "t = torch.tensor([\n",
        "    [[51, 2],\n",
        "    [3, 4]],\n",
        "    [[14, 12],\n",
        "    [87, 46]]\n",
        "])\n",
        "t"
      ],
      "metadata": {
        "colab": {
          "base_uri": "https://localhost:8080/"
        },
        "id": "ZWmjjGK0gAHs",
        "outputId": "4a3ac409-2606-4f3a-b8e3-1d1a2129ccdd"
      },
      "execution_count": 11,
      "outputs": [
        {
          "output_type": "execute_result",
          "data": {
            "text/plain": [
              "tensor([[[51,  2],\n",
              "         [ 3,  4]],\n",
              "\n",
              "        [[14, 12],\n",
              "         [87, 46]]])"
            ]
          },
          "metadata": {},
          "execution_count": 11
        }
      ]
    },
    {
      "cell_type": "code",
      "source": [
        "t.shape, t.ndim"
      ],
      "metadata": {
        "colab": {
          "base_uri": "https://localhost:8080/"
        },
        "id": "8qm7mSC8gWAp",
        "outputId": "2d560472-4cbb-48b4-a0f9-bfbad99e5b6b"
      },
      "execution_count": 12,
      "outputs": [
        {
          "output_type": "execute_result",
          "data": {
            "text/plain": [
              "(torch.Size([2, 2, 2]), 3)"
            ]
          },
          "metadata": {},
          "execution_count": 12
        }
      ]
    },
    {
      "cell_type": "markdown",
      "source": [
        "Creating random tensors"
      ],
      "metadata": {
        "id": "48GkEOuUh616"
      }
    },
    {
      "cell_type": "code",
      "source": [
        "rt = torch.rand(4,3)\n",
        "rt"
      ],
      "metadata": {
        "colab": {
          "base_uri": "https://localhost:8080/"
        },
        "id": "bSUt6N4UgX1O",
        "outputId": "7fdec83b-0355-4c7c-e091-023d89f3ba12"
      },
      "execution_count": 13,
      "outputs": [
        {
          "output_type": "execute_result",
          "data": {
            "text/plain": [
              "tensor([[0.5061, 0.0566, 0.2459],\n",
              "        [0.8493, 0.7619, 0.8252],\n",
              "        [0.7096, 0.6377, 0.7946],\n",
              "        [0.0638, 0.3344, 0.5757]])"
            ]
          },
          "metadata": {},
          "execution_count": 13
        }
      ]
    },
    {
      "cell_type": "code",
      "source": [
        "rt*10"
      ],
      "metadata": {
        "colab": {
          "base_uri": "https://localhost:8080/"
        },
        "id": "yPTUb8g9iBzQ",
        "outputId": "8affe3c0-b625-4f3d-cc11-84bc3739b284"
      },
      "execution_count": 14,
      "outputs": [
        {
          "output_type": "execute_result",
          "data": {
            "text/plain": [
              "tensor([[5.0613, 0.5656, 2.4595],\n",
              "        [8.4928, 7.6190, 8.2517],\n",
              "        [7.0963, 6.3768, 7.9457],\n",
              "        [0.6376, 3.3439, 5.7571]])"
            ]
          },
          "metadata": {},
          "execution_count": 14
        }
      ]
    },
    {
      "cell_type": "code",
      "source": [
        "rt3 = torch.rand(4,2,2)\n",
        "rt3"
      ],
      "metadata": {
        "colab": {
          "base_uri": "https://localhost:8080/"
        },
        "id": "WtQ4zv5OiD-Q",
        "outputId": "68ad669b-53ee-42e8-fd45-e9d114c51be7"
      },
      "execution_count": 15,
      "outputs": [
        {
          "output_type": "execute_result",
          "data": {
            "text/plain": [
              "tensor([[[0.4507, 0.9781],\n",
              "         [0.6203, 0.1221]],\n",
              "\n",
              "        [[0.7131, 0.4275],\n",
              "         [0.7550, 0.3000]],\n",
              "\n",
              "        [[0.1484, 0.2583],\n",
              "         [0.4624, 0.3079]],\n",
              "\n",
              "        [[0.3285, 0.2382],\n",
              "         [0.8283, 0.7059]]])"
            ]
          },
          "metadata": {},
          "execution_count": 15
        }
      ]
    },
    {
      "cell_type": "markdown",
      "source": [
        "Tensor Operations"
      ],
      "metadata": {
        "id": "0XtgJhsC7V9A"
      }
    },
    {
      "cell_type": "code",
      "source": [
        "# There will be element wise operations\n",
        "a = torch.tensor([1,3,5])\n",
        "b = torch.tensor([2,4,6])\n",
        "a+b"
      ],
      "metadata": {
        "id": "9IevxlveiRvN",
        "colab": {
          "base_uri": "https://localhost:8080/"
        },
        "outputId": "48a9ee9a-ae6f-4e0f-942c-69c559e735b2"
      },
      "execution_count": 16,
      "outputs": [
        {
          "output_type": "execute_result",
          "data": {
            "text/plain": [
              "tensor([ 3,  7, 11])"
            ]
          },
          "metadata": {},
          "execution_count": 16
        }
      ]
    },
    {
      "cell_type": "code",
      "source": [
        "a-b"
      ],
      "metadata": {
        "colab": {
          "base_uri": "https://localhost:8080/"
        },
        "id": "DO_W8BuT7mpU",
        "outputId": "29c63c1b-e235-48b7-9ce5-66b81e5ee2f6"
      },
      "execution_count": 17,
      "outputs": [
        {
          "output_type": "execute_result",
          "data": {
            "text/plain": [
              "tensor([-1, -1, -1])"
            ]
          },
          "metadata": {},
          "execution_count": 17
        }
      ]
    },
    {
      "cell_type": "code",
      "source": [
        "a*b"
      ],
      "metadata": {
        "colab": {
          "base_uri": "https://localhost:8080/"
        },
        "id": "dy1FyjLZ8AjX",
        "outputId": "cd08aa57-9026-4921-e6fb-42a0f8a4b976"
      },
      "execution_count": 18,
      "outputs": [
        {
          "output_type": "execute_result",
          "data": {
            "text/plain": [
              "tensor([ 2, 12, 30])"
            ]
          },
          "metadata": {},
          "execution_count": 18
        }
      ]
    },
    {
      "cell_type": "code",
      "source": [
        "# scaler addition and multipication\n",
        "a * 2"
      ],
      "metadata": {
        "colab": {
          "base_uri": "https://localhost:8080/"
        },
        "id": "mzVHMK977qSA",
        "outputId": "3f0a7ad9-56d4-4e85-a5bd-77bb63b3bbcd"
      },
      "execution_count": 19,
      "outputs": [
        {
          "output_type": "execute_result",
          "data": {
            "text/plain": [
              "tensor([ 2,  6, 10])"
            ]
          },
          "metadata": {},
          "execution_count": 19
        }
      ]
    },
    {
      "cell_type": "code",
      "source": [
        "b +10"
      ],
      "metadata": {
        "colab": {
          "base_uri": "https://localhost:8080/"
        },
        "id": "lgWpte6k7yFK",
        "outputId": "8c1829f8-d9da-424f-a981-2d5b25a2e30d"
      },
      "execution_count": 20,
      "outputs": [
        {
          "output_type": "execute_result",
          "data": {
            "text/plain": [
              "tensor([12, 14, 16])"
            ]
          },
          "metadata": {},
          "execution_count": 20
        }
      ]
    },
    {
      "cell_type": "markdown",
      "source": [
        "Matrix Multipication"
      ],
      "metadata": {
        "id": "P5QjZQ0N8aV5"
      }
    },
    {
      "cell_type": "code",
      "source": [
        "# getting a dot product of a and b\n",
        "a.dot(b)"
      ],
      "metadata": {
        "colab": {
          "base_uri": "https://localhost:8080/"
        },
        "id": "xlHIw8ef8xdG",
        "outputId": "67f3b16c-6f63-44db-c934-b172bc0e8c82"
      },
      "execution_count": 21,
      "outputs": [
        {
          "output_type": "execute_result",
          "data": {
            "text/plain": [
              "tensor(44)"
            ]
          },
          "metadata": {},
          "execution_count": 21
        }
      ]
    },
    {
      "cell_type": "code",
      "source": [
        "x = torch.tensor([\n",
        "    [1,2],\n",
        "    [3,4]\n",
        "])\n",
        "\n",
        "y = torch.tensor([\n",
        "    [3,1],\n",
        "    [2,6]\n",
        "])"
      ],
      "metadata": {
        "id": "ZmNVn1Ev8aAz"
      },
      "execution_count": 22,
      "outputs": []
    },
    {
      "cell_type": "code",
      "source": [
        "# using * will do element wise multipication\n",
        "x*y"
      ],
      "metadata": {
        "colab": {
          "base_uri": "https://localhost:8080/"
        },
        "id": "wnLWumbZ7zY1",
        "outputId": "e1c84720-d805-4680-be4c-186b00f127eb"
      },
      "execution_count": 23,
      "outputs": [
        {
          "output_type": "execute_result",
          "data": {
            "text/plain": [
              "tensor([[ 3,  2],\n",
              "        [ 6, 24]])"
            ]
          },
          "metadata": {},
          "execution_count": 23
        }
      ]
    },
    {
      "cell_type": "code",
      "source": [
        "# we can use matmul from torch\n",
        "torch.matmul(x,y)"
      ],
      "metadata": {
        "colab": {
          "base_uri": "https://localhost:8080/"
        },
        "id": "GZm_Mn1678fm",
        "outputId": "b51495b9-4635-4bc9-8cd2-556a36775699"
      },
      "execution_count": 24,
      "outputs": [
        {
          "output_type": "execute_result",
          "data": {
            "text/plain": [
              "tensor([[ 7, 13],\n",
              "        [17, 27]])"
            ]
          },
          "metadata": {},
          "execution_count": 24
        }
      ]
    },
    {
      "cell_type": "markdown",
      "source": [
        "Tensor Aggregation <br>\n",
        "using mean max min sum ..."
      ],
      "metadata": {
        "id": "Q0Nuk5F9srAf"
      }
    },
    {
      "cell_type": "code",
      "source": [
        "t1 = torch.arange(11,45, 2, dtype=float) # should not be int else we will get error\n",
        "t1.mean()"
      ],
      "metadata": {
        "id": "KUW_ykxO9UGa",
        "colab": {
          "base_uri": "https://localhost:8080/"
        },
        "outputId": "ee63657b-ed82-4882-b733-f7dad1c4d781"
      },
      "execution_count": 25,
      "outputs": [
        {
          "output_type": "execute_result",
          "data": {
            "text/plain": [
              "tensor(27., dtype=torch.float64)"
            ]
          },
          "metadata": {},
          "execution_count": 25
        }
      ]
    },
    {
      "cell_type": "code",
      "source": [
        "t1.sum(), t1.max()"
      ],
      "metadata": {
        "colab": {
          "base_uri": "https://localhost:8080/"
        },
        "id": "42mOe2qMsz8I",
        "outputId": "b75b241f-7b4c-48e1-dd4d-bd430e5e3135"
      },
      "execution_count": 26,
      "outputs": [
        {
          "output_type": "execute_result",
          "data": {
            "text/plain": [
              "(tensor(459., dtype=torch.float64), tensor(43., dtype=torch.float64))"
            ]
          },
          "metadata": {},
          "execution_count": 26
        }
      ]
    },
    {
      "cell_type": "code",
      "source": [
        "# finding the min and max index using argmin and argmax\n",
        "t2 = torch.tensor([16,4,67, 345,8,96,3,14])\n",
        "print(t2.argmin()) # prints 6 as 3 is the min and at 5th index\n",
        "t2.argmax()"
      ],
      "metadata": {
        "colab": {
          "base_uri": "https://localhost:8080/"
        },
        "id": "Nhogp20OuJeU",
        "outputId": "3a5fc528-b39b-4536-bea0-2c1914b2dd77"
      },
      "execution_count": 27,
      "outputs": [
        {
          "output_type": "stream",
          "name": "stdout",
          "text": [
            "tensor(6)\n"
          ]
        },
        {
          "output_type": "execute_result",
          "data": {
            "text/plain": [
              "tensor(3)"
            ]
          },
          "metadata": {},
          "execution_count": 27
        }
      ]
    },
    {
      "cell_type": "code",
      "source": [
        "t = torch.arange(36)\n",
        "t"
      ],
      "metadata": {
        "colab": {
          "base_uri": "https://localhost:8080/"
        },
        "id": "Q6_3j_l-ulCY",
        "outputId": "3ac22d79-c327-443b-d1ad-2488bc7da46f"
      },
      "execution_count": 28,
      "outputs": [
        {
          "output_type": "execute_result",
          "data": {
            "text/plain": [
              "tensor([ 0,  1,  2,  3,  4,  5,  6,  7,  8,  9, 10, 11, 12, 13, 14, 15, 16, 17,\n",
              "        18, 19, 20, 21, 22, 23, 24, 25, 26, 27, 28, 29, 30, 31, 32, 33, 34, 35])"
            ]
          },
          "metadata": {},
          "execution_count": 28
        }
      ]
    },
    {
      "cell_type": "code",
      "source": [
        "# reshaping tensor\n",
        "reshaped = t.reshape(6,6) # should be of compatible shape like 6x6, 36x1, 2x18\n",
        "reshaped"
      ],
      "metadata": {
        "colab": {
          "base_uri": "https://localhost:8080/"
        },
        "id": "9ACqpH8nwy95",
        "outputId": "61f5597f-cd9d-4c92-9ba0-18f6fec7ce2a"
      },
      "execution_count": 29,
      "outputs": [
        {
          "output_type": "execute_result",
          "data": {
            "text/plain": [
              "tensor([[ 0,  1,  2,  3,  4,  5],\n",
              "        [ 6,  7,  8,  9, 10, 11],\n",
              "        [12, 13, 14, 15, 16, 17],\n",
              "        [18, 19, 20, 21, 22, 23],\n",
              "        [24, 25, 26, 27, 28, 29],\n",
              "        [30, 31, 32, 33, 34, 35]])"
            ]
          },
          "metadata": {},
          "execution_count": 29
        }
      ]
    },
    {
      "cell_type": "code",
      "source": [
        "# stacking tensors\n",
        "t2 = torch.tensor([3,3,3,3,3,3])\n",
        "t3  = torch.tensor([3,3,3,3,3,3])+2\n",
        "torch.stack((t2, t3), dim=1) # by default it will stack horizontally"
      ],
      "metadata": {
        "colab": {
          "base_uri": "https://localhost:8080/"
        },
        "id": "VHpSgCS8w6Gx",
        "outputId": "bf7dc638-0e8f-46eb-c341-631ca3c2f873"
      },
      "execution_count": 30,
      "outputs": [
        {
          "output_type": "execute_result",
          "data": {
            "text/plain": [
              "tensor([[3, 5],\n",
              "        [3, 5],\n",
              "        [3, 5],\n",
              "        [3, 5],\n",
              "        [3, 5],\n",
              "        [3, 5]])"
            ]
          },
          "metadata": {},
          "execution_count": 30
        }
      ]
    },
    {
      "cell_type": "code",
      "source": [
        "# vertically stacking in out 6x6 tensor (reshaped)\n",
        "torch.vstack((reshaped, t2))"
      ],
      "metadata": {
        "colab": {
          "base_uri": "https://localhost:8080/"
        },
        "id": "fahCMh-ayi_G",
        "outputId": "86e1f5d9-d1c7-44e9-cb2a-5258798a9914"
      },
      "execution_count": 31,
      "outputs": [
        {
          "output_type": "execute_result",
          "data": {
            "text/plain": [
              "tensor([[ 0,  1,  2,  3,  4,  5],\n",
              "        [ 6,  7,  8,  9, 10, 11],\n",
              "        [12, 13, 14, 15, 16, 17],\n",
              "        [18, 19, 20, 21, 22, 23],\n",
              "        [24, 25, 26, 27, 28, 29],\n",
              "        [30, 31, 32, 33, 34, 35],\n",
              "        [ 3,  3,  3,  3,  3,  3]])"
            ]
          },
          "metadata": {},
          "execution_count": 31
        }
      ]
    },
    {
      "cell_type": "code",
      "source": [
        "torch.hstack((reshaped, t2.reshape(-1,1))) # converting to compatible format using rehape(-1,1)"
      ],
      "metadata": {
        "colab": {
          "base_uri": "https://localhost:8080/"
        },
        "id": "YU49DUM9xw64",
        "outputId": "9f49ac67-b2c2-4436-af85-d390972a878f"
      },
      "execution_count": 32,
      "outputs": [
        {
          "output_type": "execute_result",
          "data": {
            "text/plain": [
              "tensor([[ 0,  1,  2,  3,  4,  5,  3],\n",
              "        [ 6,  7,  8,  9, 10, 11,  3],\n",
              "        [12, 13, 14, 15, 16, 17,  3],\n",
              "        [18, 19, 20, 21, 22, 23,  3],\n",
              "        [24, 25, 26, 27, 28, 29,  3],\n",
              "        [30, 31, 32, 33, 34, 35,  3]])"
            ]
          },
          "metadata": {},
          "execution_count": 32
        }
      ]
    },
    {
      "cell_type": "code",
      "source": [],
      "metadata": {
        "id": "rD-n5_UYyutP"
      },
      "execution_count": 32,
      "outputs": []
    },
    {
      "cell_type": "code",
      "source": [],
      "metadata": {
        "id": "jbWFGtRqy7Ah"
      },
      "execution_count": 32,
      "outputs": []
    }
  ]
}